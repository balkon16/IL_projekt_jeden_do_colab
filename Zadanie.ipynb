{
 "cells": [
  {
   "cell_type": "markdown",
   "metadata": {
    "colab_type": "text",
    "id": "eOWATRrqxXMU"
   },
   "source": [
    "# Analiza wydźwięku\n",
    "\n",
    "## Opis zadania\n",
    "\n",
    "Zadanie polega na stworzeniu programu w języku Python bazującego na uczeniu maszynowym który będzie rozpoznawał wydźwięk danego zdania tzn. czy jest ono pozytywne czy negatywne. Można korzystać z różnych technik uczenia maszynowego, jednak wymagane jest samodzielne trenowanie systemu rozpoznającego oraz skorzystanie z embeddingsów. Zaleca się korzystanie z sieci neuronowych i biblioteki Keras albo Pytorch.\n",
    "\n",
    "## Dane \n",
    "\n",
    "Dane potrzebne do wykonania projektu znajdują się w pliku DaneDoProjektu2.zip. Są tam dane 3 pliki, dane treningowe, walidacyjne i testowe. Wszystkie mają tę samą strukturę: są 4 kolumny podające numer sentencji, numer frazy, sentencję i jej wydźwięk. Wydźwięk ma 5 możliwych wartości:\n",
    "\n",
    "0 - negatywny\n",
    "1 - trochę negatywny\n",
    "2 - neutralny\n",
    "3 - trochę pozytywny\n",
    "4 - pozytywny\n",
    "\n",
    "W treningu można wykorzystać tylko dane z pliku train.tsv, do walidacji mają służyć dane z valid.tsv, a do testu dane z test.tsv\n",
    "\n",
    "## Warunki zaliczania\n",
    "\n",
    "Do zaliczenia wymagany jest:\n",
    "\n",
    "* kod programu z instrukcją jak przeprowadzić trening i testy\n",
    "* wykresy wyników podczas treningu na danych treningowych i walidacyjnych\n",
    "* krótkie podsumowanie wyników i pracy nad programem\n",
    "* wynik na danych testowych (MSE)\n",
    "\n",
    "Wynik proszę przygotować w pojedyńczym pliku colabowym, tylko proszę, żeby było na nim wszystko, włącznie z ładowniem danych, wykresami i komentarzem i przesłać do mnie na maila (g.wojdyga@uw.edu.pl).\n",
    "\n",
    "\n",
    "\n",
    "\n",
    "\n",
    "\n",
    "\n"
   ]
  }
 ],
 "metadata": {
  "colab": {
   "name": "opcja2.ipynb",
   "provenance": [],
   "version": "0.3.2"
  },
  "kernelspec": {
   "display_name": "Python 3",
   "language": "python",
   "name": "python3"
  },
  "language_info": {
   "codemirror_mode": {
    "name": "ipython",
    "version": 3
   },
   "file_extension": ".py",
   "mimetype": "text/x-python",
   "name": "python",
   "nbconvert_exporter": "python",
   "pygments_lexer": "ipython3",
   "version": "3.6.6"
  }
 },
 "nbformat": 4,
 "nbformat_minor": 1
}
